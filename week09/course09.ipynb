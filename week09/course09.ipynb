{
 "cells": [
  {
   "cell_type": "code",
   "execution_count": 2,
   "metadata": {
    "collapsed": true,
    "pycharm": {
     "is_executing": false
    }
   },
   "outputs": [],
   "source": [
    "from PIL import Image\n",
    "import numpy as np\n",
    "from scipy import signal\n",
    "\n",
    "I = Image.open('./snsd.jpg')\n",
    "W, H = I.size\n",
    "data = np.asarray(I)"
   ]
  },
  {
   "cell_type": "code",
   "execution_count": 22,
   "outputs": [],
   "source": [
    "# Problem 03: 用gaussian控制模糊\n",
    "x, y = np.meshgrid(np.linspace(-1, 1, 10), np.linspace(-1, 1, 10))\n",
    "d = np.sqrt(x*x+y*y)\n",
    "sigma, mu = 1.0, 0.0\n",
    "# M = np.ones((10, 10))/ 100\n",
    "M = np.exp(-((d-mu)**2/ (2.0*sigma**2)))/ 100\n",
    "M = M/ np.sum(M[:])\n",
    "R = data[:, :, 0]\n",
    "G = data[:, :, 1]\n",
    "B = data[:, :, 2]\n",
    "# convolution\n",
    "R2 = signal.convolve2d(R, M, boundary='symm', mode='same')\n",
    "G2 = signal.convolve2d(G, M, boundary='symm', mode='same')\n",
    "B2 = signal.convolve2d(B, M, boundary='symm', mode='same')\n",
    "data3 = data.copy()\n",
    "data3[:, :, 0] = R2.astype('uint8')\n",
    "data3[:, :, 1] = G2.astype('uint8')\n",
    "data3[:, :, 2] = B2.astype('uint8')"
   ],
   "metadata": {
    "collapsed": false,
    "pycharm": {
     "name": "#%%\n",
     "is_executing": false
    }
   }
  },
  {
   "cell_type": "code",
   "execution_count": null,
   "outputs": [],
   "source": [
    "# 負片\n",
    "# data = 255 - data\n",
    "# data2 = data.astype('uint8')"
   ],
   "metadata": {
    "collapsed": false,
    "pycharm": {
     "name": "#%%\n"
    }
   }
  },
  {
   "cell_type": "code",
   "execution_count": 25,
   "outputs": [],
   "source": [
    "# Problem 01: 加上noise\n",
    "data2 = data.copy()\n",
    "noise = np.random.normal(10, 20, (H, W, 3))\n",
    "data3 = data + noise\n",
    "# 確保是0到255區間內\n",
    "data3[data3 > 255] = 255\n",
    "data3[data3 < 0] = 0\n",
    "data3 = data3.astype('uint8')"
   ],
   "metadata": {
    "collapsed": false,
    "pycharm": {
     "name": "#%%\n",
     "is_executing": false
    }
   }
  },
  {
   "cell_type": "code",
   "execution_count": 27,
   "outputs": [],
   "source": [
    "# Problem 02: 用高斯抹掉剛剛的noise\n",
    "x, y = np.meshgrid(np.linspace(-1, 1, 10), np.linspace(-1, 1, 10))\n",
    "d = np.sqrt(x*x+y*y)\n",
    "sigma, mu = 0.1, 0.0\n",
    "M = np.exp(-((d-mu)**2/ (2.0*sigma**2)))/ 100\n",
    "M = M/ np.sum(M[:])\n",
    "# convolution\n",
    "R2 = signal.convolve2d(R, M, boundary='symm', mode='same')\n",
    "G2 = signal.convolve2d(G, M, boundary='symm', mode='same')\n",
    "B2 = signal.convolve2d(B, M, boundary='symm', mode='same')\n",
    "\n",
    "data3[:, :, 0] = R2.astype('uint8')\n",
    "data3[:, :, 1] = G2.astype('uint8')\n",
    "data3[:, :, 2] = B2.astype('uint8')"
   ],
   "metadata": {
    "collapsed": false,
    "pycharm": {
     "name": "#%%\n",
     "is_executing": false
    }
   }
  },
  {
   "cell_type": "code",
   "execution_count": null,
   "outputs": [],
   "source": [
    "# 灰階\n",
    "# data2 = data.copy()\n",
    "# data = data.astype('float64')\n",
    "# gray = (data[:, :, 0] + data[:, :, 1] + data[:, :, 2])/ 3\n",
    "# data2[:, :, 0] = gray\n",
    "# data2[:, :, 1] = gray\n",
    "# data2[:, :, 2] = gray"
   ],
   "metadata": {
    "collapsed": false,
    "pycharm": {
     "name": "#%%\n"
    }
   }
  },
  {
   "cell_type": "code",
   "execution_count": null,
   "outputs": [],
   "source": [
    "I2 = Image.fromarray(data3, 'RGB')\n",
    "I2.save('00.jpg')\n",
    "I2.show()"
   ],
   "metadata": {
    "collapsed": false,
    "pycharm": {
     "name": "#%%\n"
    }
   }
  },
  {
   "cell_type": "code",
   "execution_count": 3,
   "outputs": [],
   "source": [
    "import cv2\n",
    "\n",
    "def displayIMG(img, windowName):\n",
    "    # cv2.namedWindow(windowName, cv2.WINDOW_NORMAL)\n",
    "    # cv2.imshow(windowName, img)\n",
    "    cv2.imwrite('output.png', img)\n",
    "    \n",
    "image = cv2.imread('./snsd.jpg')\n",
    "image = cv2.cvtColor(image, cv2.COLOR_BGR2GRAY)\n",
    "sobelX = cv2.Sobel(image, cv2.CV_64F, 1, 0)\n",
    "sobelY = cv2.Sobel(image, cv2.CV_64F, 0, 1)\n",
    "sobelX = np.uint8(np.absolute(sobelX))\n",
    "sobelY = np.uint8(np.absolute(sobelY))\n",
    "sobelCombined = cv2.bitwise_or(sobelX, sobelY)\n",
    "\n",
    "displayIMG(sobelCombined, 'SibelXY')"
   ],
   "metadata": {
    "collapsed": false,
    "pycharm": {
     "name": "#%%\n",
     "is_executing": false
    }
   }
  },
  {
   "cell_type": "code",
   "execution_count": 4,
   "outputs": [
    {
     "data": {
      "text/plain": "True"
     },
     "metadata": {},
     "output_type": "execute_result",
     "execution_count": 4
    }
   ],
   "source": [
    "def sobelOperator(img):\n",
    "    container = np.copy(img)\n",
    "    size = container.shape\n",
    "    for i in range(1, size[0] - 1):\n",
    "        for j in range(1, size[1] - 1):\n",
    "            gx = (img[i - 1][j - 1] + 2*img[i][j - 1] + img[i + 1][j - 1]) - (img[i - 1][j + 1] + 2*img[i][j + 1] + img[i + 1][j + 1])\n",
    "            gy = (img[i - 1][j - 1] + 2*img[i - 1][j] + img[i - 1][j + 1]) - (img[i + 1][j - 1] + 2*img[i + 1][j] + img[i + 1][j + 1])\n",
    "            container[i][j] = min(255, np.sqrt(gx**2 + gy**2))\n",
    "    return container\n",
    "    pass\n",
    "\n",
    "img = cv2.cvtColor(cv2.imread(\"snsd.jpg\"), cv2.COLOR_BGR2GRAY)\n",
    "img = sobelOperator(img)\n",
    "cv2.imwrite('output2.png', img)"
   ],
   "metadata": {
    "collapsed": false,
    "pycharm": {
     "name": "#%%\n",
     "is_executing": false
    }
   }
  },
  {
   "cell_type": "code",
   "execution_count": null,
   "outputs": [],
   "source": [
    "\n"
   ],
   "metadata": {
    "collapsed": false,
    "pycharm": {
     "name": "#%%\n"
    }
   }
  }
 ],
 "metadata": {
  "kernelspec": {
   "display_name": "Python 3",
   "language": "python",
   "name": "python3"
  },
  "language_info": {
   "codemirror_mode": {
    "name": "ipython",
    "version": 2
   },
   "file_extension": ".py",
   "mimetype": "text/x-python",
   "name": "python",
   "nbconvert_exporter": "python",
   "pygments_lexer": "ipython2",
   "version": "2.7.6"
  },
  "pycharm": {
   "stem_cell": {
    "cell_type": "raw",
    "source": [],
    "metadata": {
     "collapsed": false
    }
   }
  }
 },
 "nbformat": 4,
 "nbformat_minor": 0
}