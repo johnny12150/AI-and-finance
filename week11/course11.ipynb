{
 "cells": [
  {
   "cell_type": "code",
   "execution_count": 1,
   "metadata": {
    "collapsed": true,
    "pycharm": {
     "is_executing": false
    }
   },
   "outputs": [],
   "source": [
    "import numpy as np\n",
    "\n",
    "npzfile = np.load('../week10/CBCL.npz')\n",
    "trainface = npzfile['arr_0']\n",
    "trainnonface = npzfile['arr_1']\n",
    "testface = npzfile['arr_2']\n",
    "testnonface = npzfile['arr_3']"
   ]
  },
  {
   "cell_type": "code",
   "execution_count": 2,
   "outputs": [],
   "source": [
    "trnn = trainnonface.shape[0]\n",
    "trpn = trainface.shape[0]\n",
    "tepn = testface.shape[0]\n",
    "tenn = testnonface.shape[0]\n"
   ],
   "metadata": {
    "collapsed": false,
    "pycharm": {
     "name": "#%%\n",
     "is_executing": false
    }
   }
  },
  {
   "cell_type": "code",
   "execution_count": 4,
   "outputs": [
    {
     "name": "stdout",
     "text": [
      "12312\n"
     ],
     "output_type": "stream"
    }
   ],
   "source": [
    "fn = 0\n",
    "ftable = []\n",
    "# 窮舉所有特徵\n",
    "for y in range(19):\n",
    "    for x in range(19):\n",
    "        for h in range(2, 20):\n",
    "            for w in range(2, 20):\n",
    "                if y+h <= 19 and x+w*2 <= 19:\n",
    "                    fn += 1\n",
    "                    ftable.append([0, y, x, h, w])\n",
    "print(fn)\n",
    "\n",
    "for y in range(19):\n",
    "    for x in range(19):\n",
    "        for h in range(2, 20):\n",
    "            for w in range(2, 20):\n",
    "                if y+h <= 19 and x+w*2 <= 19:\n",
    "                    fn += 1\n",
    "                    ftable.append([1, y, x, h, w])\n",
    "\n",
    "for y in range(19):\n",
    "    for x in range(19):\n",
    "        for h in range(2, 20):\n",
    "            for w in range(2, 20):\n",
    "                if y+h <= 19 and x+w*2 <= 19:\n",
    "                    fn += 1\n",
    "                    ftable.append([2, y, x, h, w])\n",
    "\n",
    "for y in range(19):\n",
    "    for x in range(19):\n",
    "        for h in range(2, 20):\n",
    "            for w in range(2, 20):\n",
    "                if y+h <= 19 and x+w*2 <= 19:\n",
    "                    fn += 1\n",
    "                    ftable.append([3, y, x, h, w])"
   ],
   "metadata": {
    "collapsed": false,
    "pycharm": {
     "name": "#%%\n",
     "is_executing": false
    }
   }
  },
  {
   "cell_type": "code",
   "execution_count": 5,
   "outputs": [],
   "source": [
    "def fe(sample, ftable, c):\n",
    "    ftype = ftable[c][0]\n",
    "    y = ftable[c][1]\n",
    "    x = ftable[c][2]\n",
    "    h = ftable[c][3]\n",
    "    w = ftable[c][4]\n",
    "    T = np.arange(361).reshape((19, 19))\n",
    "    if ftype == 0:\n",
    "        idx1 = T[y:y+h, x:x+w].flatten() \n",
    "        idx2 = T[y:y+h, x+w:x+w*2].flatten() \n",
    "        # 白色減黑色\n",
    "        output = np.sum(sample[:, idx1], axis=1) - np.sum(sample[:, idx2], axis=1)\n",
    "    elif ftype == 1:\n",
    "        idx1 = T[y:y+h, x:x+w].flatten() \n",
    "        idx2 = T[y:y+h*2, x+w:x+w].flatten() \n",
    "        output = np.sum(sample[:, idx2], axis=1) - np.sum(sample[:, idx1], axis=1)\n",
    "    elif ftype == 2:\n",
    "        idx1 = T[y:y+h, x:x+w].flatten() \n",
    "        idx2 = T[y:y+h, x+w:x+w*2].flatten() \n",
    "        idx3 = T[y:y+h, x+w*2:x+w*3].flatten() \n",
    "        output = np.sum(sample[:, idx1], axis=1) - np.sum(sample[:, idx2], axis=1) + np.sum(sample[:, idx3], axis=1)\n",
    "    elif ftype == 3:\n",
    "        idx1 = T[y:y+h, x:x+w].flatten() \n",
    "        idx2 = T[y:y+h*2, x+w:x+w].flatten() \n",
    "        idx3 = T[y+h:y+h*2, x:x+w].flatten() \n",
    "        idx4 = T[y+h:y+h*2, x+w:x+w*2].flatten() \n",
    "        output = np.sum(sample[:, idx1], axis=1) - np.sum(sample[:, idx2], axis=1) + np.sum(sample[:, idx4], axis=1) -  np.sum(sample[:, idx3], axis=1)\n",
    "        \n",
    "    return output"
   ],
   "metadata": {
    "collapsed": false,
    "pycharm": {
     "name": "#%%\n",
     "is_executing": false
    }
   }
  },
  {
   "cell_type": "code",
   "execution_count": 7,
   "outputs": [],
   "source": [
    "%%time\n",
    "\n",
    "trpf = np.zeros((trpn, fn))\n",
    "trnf = np.zeros((trnn, fn))\n",
    "\n",
    "for c in range(fn):\n",
    "    trpf[:, c] = fe(trainface, ftable, c)\n",
    "    trnf[:, c] = fe(trainnonface, ftable, c)"
   ],
   "metadata": {
    "collapsed": false,
    "pycharm": {
     "name": "#%%\n",
     "is_executing": false
    }
   }
  },
  {
   "cell_type": "code",
   "execution_count": null,
   "outputs": [],
   "source": [
    "def WC(pw, nw, pf, nf):\n",
    "    maxf = max(pf.max(), nf.max())\n",
    "    minf = min(pf.min(), nf.min())\n",
    "    theta = (maxf-minf) / 10 + minf\n",
    "    error = np.sum(pw[pf<theta]) + np.sum(nw[nf>=theta])\n",
    "    polaity =1\n",
    "    if error > 0.5:\n",
    "        polaity = 0\n",
    "        error = 1 - error\n",
    "    min_theta = theta\n",
    "    min_error = error\n",
    "    min_polarity = polaity\n",
    "    for i in range(2, 10):\n",
    "        theta = (maxf - minf) * i / 10 + minf\n",
    "        error = np.sum(pw[pf < theta]) + np.sum(nw[nf>=theta])\n",
    "        polaity =1\n",
    "        if error > 0.5:\n",
    "            polaity = 0\n",
    "            error = 1 - error\n",
    "        if error < min_error:\n",
    "            min_theta = theta\n",
    "            min_error = error\n",
    "            min_polarity = polaity\n",
    "    return min_theta, min_error, min_polarity"
   ],
   "metadata": {
    "collapsed": false,
    "pycharm": {
     "name": "#%%\n"
    }
   }
  },
  {
   "cell_type": "code",
   "execution_count": null,
   "outputs": [],
   "source": [
    "pw = np.ones((trpn, 1))/ trpn/ 2\n",
    "nw = np.ones((trnn, 1))/ trnn/ 2\n",
    "\n",
    "me, mt, mp = WC(pw, nw, trpf[:, 0], trnf[:, 0])\n",
    "\n",
    "mine = me\n",
    "mini = 0\n",
    "for i in range(1, fn):\n",
    "    me, mt, mp = WC(pw, nw, trpf[:, i], trnf[:, 1])\n",
    "    if me < mine:\n",
    "        mine = me\n",
    "        mini = i\n",
    "print([mini, mine])\n"
   ],
   "metadata": {
    "collapsed": false,
    "pycharm": {
     "name": "#%%\n"
    }
   }
  }
 ],
 "metadata": {
  "kernelspec": {
   "display_name": "Python 3",
   "language": "python",
   "name": "python3"
  },
  "language_info": {
   "codemirror_mode": {
    "name": "ipython",
    "version": 2
   },
   "file_extension": ".py",
   "mimetype": "text/x-python",
   "name": "python",
   "nbconvert_exporter": "python",
   "pygments_lexer": "ipython2",
   "version": "2.7.6"
  },
  "pycharm": {
   "stem_cell": {
    "cell_type": "raw",
    "source": [],
    "metadata": {
     "collapsed": false
    }
   }
  }
 },
 "nbformat": 4,
 "nbformat_minor": 0
}