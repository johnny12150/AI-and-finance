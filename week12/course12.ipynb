{
 "cells": [
  {
   "cell_type": "code",
   "execution_count": 1,
   "metadata": {
    "collapsed": true,
    "pycharm": {
     "is_executing": false
    }
   },
   "outputs": [],
   "source": [
    "import numpy as np\n",
    "\n",
    "npzfile = np.load('../week10/CBCL.npz')\n",
    "trainface = npzfile['arr_0']\n",
    "trainnonface = npzfile['arr_1']\n",
    "testface = npzfile['arr_2']\n",
    "testnonface = npzfile['arr_3']"
   ]
  },
  {
   "cell_type": "code",
   "execution_count": 2,
   "outputs": [],
   "source": [
    "trnn = trainnonface.shape[0]\n",
    "trpn = trainface.shape[0]\n",
    "tepn = testface.shape[0]\n",
    "tenn = testnonface.shape[0]\n"
   ],
   "metadata": {
    "collapsed": false,
    "pycharm": {
     "name": "#%%\n",
     "is_executing": false
    }
   }
  },
  {
   "cell_type": "code",
   "execution_count": 3,
   "outputs": [
    {
     "name": "stdout",
     "text": [
      "12312\n"
     ],
     "output_type": "stream"
    }
   ],
   "source": [
    "fn = 0\n",
    "ftable = []\n",
    "# 窮舉所有特徵\n",
    "for y in range(19):\n",
    "    for x in range(19):\n",
    "        for h in range(2, 20):\n",
    "            for w in range(2, 20):\n",
    "                if y+h <= 19 and x+w*2 <= 19:\n",
    "                    fn += 1\n",
    "                    ftable.append([0, y, x, h, w])\n",
    "print(fn)\n",
    "\n",
    "for y in range(19):\n",
    "    for x in range(19):\n",
    "        for h in range(2, 20):\n",
    "            for w in range(2, 20):\n",
    "                if y+h <= 19 and x+w*2 <= 19:\n",
    "                    fn += 1\n",
    "                    ftable.append([1, y, x, h, w])\n",
    "\n",
    "for y in range(19):\n",
    "    for x in range(19):\n",
    "        for h in range(2, 20):\n",
    "            for w in range(2, 20):\n",
    "                if y+h <= 19 and x+w*2 <= 19:\n",
    "                    fn += 1\n",
    "                    ftable.append([2, y, x, h, w])\n",
    "\n",
    "for y in range(19):\n",
    "    for x in range(19):\n",
    "        for h in range(2, 20):\n",
    "            for w in range(2, 20):\n",
    "                if y+h <= 19 and x+w*2 <= 19:\n",
    "                    fn += 1\n",
    "                    ftable.append([3, y, x, h, w])"
   ],
   "metadata": {
    "collapsed": false,
    "pycharm": {
     "name": "#%%\n",
     "is_executing": false
    }
   }
  },
  {
   "cell_type": "code",
   "execution_count": 1,
   "outputs": [],
   "source": [
    "def fe(sample, ftable, c):\n",
    "    ftype = ftable[c][0]\n",
    "    y = ftable[c][1]\n",
    "    x = ftable[c][2]\n",
    "    h = ftable[c][3]\n",
    "    w = ftable[c][4]\n",
    "    T = np.arange(361).reshape((19, 19))\n",
    "    if ftype == 0:\n",
    "        idx1 = T[y:y+h, x:x+w].flatten() \n",
    "        idx2 = T[y:y+h, x+w:x+w*2].flatten() \n",
    "        # 白色減黑色\n",
    "        output = np.sum(sample[:, idx1], axis=1) - np.sum(sample[:, idx2], axis=1)\n",
    "    elif ftype == 1:\n",
    "        idx1 = T[y:y+h, x:x+w].flatten() \n",
    "        idx2 = T[y:y+h*2, x+w:x+w].flatten() \n",
    "        output = np.sum(sample[:, idx2], axis=1) - np.sum(sample[:, idx1], axis=1)\n",
    "    elif ftype == 2:\n",
    "        idx1 = T[y:y+h, x:x+w].flatten() \n",
    "        idx2 = T[y:y+h, x+w:x+w*2].flatten() \n",
    "        idx3 = T[y:y+h, x+w*2:x+w*3].flatten() \n",
    "        output = np.sum(sample[:, idx1], axis=1) - np.sum(sample[:, idx2], axis=1) + np.sum(sample[:, idx3], axis=1)\n",
    "    elif ftype == 3:\n",
    "        idx1 = T[y:y+h, x:x+w].flatten() \n",
    "        idx2 = T[y:y+h*2, x+w:x+w].flatten() \n",
    "        idx3 = T[y+h:y+h*2, x:x+w].flatten() \n",
    "        idx4 = T[y+h:y+h*2, x+w:x+w*2].flatten() \n",
    "        output = np.sum(sample[:, idx1], axis=1) - np.sum(sample[:, idx2], axis=1) + np.sum(sample[:, idx4], axis=1) -  np.sum(sample[:, idx3], axis=1)\n",
    "        \n",
    "    return output"
   ],
   "metadata": {
    "collapsed": false,
    "pycharm": {
     "name": "#%%\n",
     "is_executing": false
    }
   }
  },
  {
   "cell_type": "code",
   "execution_count": 8,
   "outputs": [
    {
     "name": "stdout",
     "text": [
      "Wall time: 2min 28s\n"
     ],
     "output_type": "stream"
    }
   ],
   "source": [
    "%%time\n",
    "\n",
    "trpf = np.zeros((trpn, fn))\n",
    "trnf = np.zeros((trnn, fn))\n",
    "\n",
    "for c in range(fn):\n",
    "    trpf[:, c] = fe(trainface, ftable, c)\n",
    "    trnf[:, c] = fe(trainnonface, ftable, c)"
   ],
   "metadata": {
    "collapsed": false,
    "pycharm": {
     "name": "#%%\n",
     "is_executing": false
    }
   }
  },
  {
   "cell_type": "code",
   "execution_count": 9,
   "outputs": [],
   "source": [
    "def WC(pw, nw, pf, nf):\n",
    "    maxf = max(pf.max(), nf.max())\n",
    "    minf = min(pf.min(), nf.min())\n",
    "    theta = (maxf-minf) / 10 + minf\n",
    "    error = np.sum(pw[pf<theta]) + np.sum(nw[nf>=theta])\n",
    "    polaity =1\n",
    "    if error > 0.5:\n",
    "        polaity = 0\n",
    "        error = 1 - error\n",
    "    min_theta = theta\n",
    "    min_error = error\n",
    "    min_polarity = polaity\n",
    "    for i in range(2, 10):\n",
    "        theta = (maxf - minf) * i / 10 + minf\n",
    "        error = np.sum(pw[pf < theta]) + np.sum(nw[nf>=theta])\n",
    "        polaity =1\n",
    "        if error > 0.5:\n",
    "            polaity = 0\n",
    "            error = 1 - error\n",
    "        if error < min_error:\n",
    "            min_theta = theta\n",
    "            min_error = error\n",
    "            min_polarity = polaity\n",
    "    return min_error, min_theta, min_polarity"
   ],
   "metadata": {
    "collapsed": false,
    "pycharm": {
     "name": "#%%\n",
     "is_executing": false
    }
   }
  },
  {
   "cell_type": "code",
   "execution_count": 10,
   "outputs": [
    {
     "traceback": [
      "\u001b[1;31m---------------------------------------------------------------------------\u001b[0m",
      "\u001b[1;31mNameError\u001b[0m                                 Traceback (most recent call last)",
      "\u001b[1;32m<timed exec>\u001b[0m in \u001b[0;36m<module>\u001b[1;34m\u001b[0m\n",
      "\u001b[1;31mNameError\u001b[0m: name 'trpf' is not defined"
     ],
     "ename": "NameError",
     "evalue": "name 'trpf' is not defined",
     "output_type": "error"
    }
   ],
   "source": [
    "%%time\n",
    "# adaboost\n",
    "# 兩種類別各自的weight\n",
    "pw = np.ones((trpn, 1))/ trpn/ 2\n",
    "nw = np.ones((trnn, 1))/ trnn/ 2\n",
    "SC = []  # 存classify用到的特徵\n",
    "for t in range(2):\n",
    "    # positive, negative的weight sum起來\n",
    "    weighted_sum = np.sum(pw)+np.sum(nw)\n",
    "    pw = pw/ weighted_sum\n",
    "    nw = nw/ weighted_sum\n",
    "    best_error, best_theta, best_polarity = WC(pw, nw, trpf[:, 0], trnf[:, 0])\n",
    "    best_feature = 0\n",
    "    # 如果有更好的特徵就換掉\n",
    "    for i in range(1, fn):\n",
    "        me, mt, mp = WC(pw, nw, trpf[:, i], trnf[:, i])\n",
    "        if me < best_error:\n",
    "            best_error = me\n",
    "            best_feature = i\n",
    "            best_theta = mt\n",
    "            best_polarity = mp\n",
    "    beta = best_error/ (1-best_error)\n",
    "    # 找出分對跟分錯的人\n",
    "    if best_polarity ==1:\n",
    "        pw[trpf[:, best_feature] >= best_theta]*= beta\n",
    "        nw[trnf[:, best_feature] < best_theta]*= beta  # 被分對\n",
    "    else:\n",
    "        pw[trpf[:, best_feature] < best_theta]*= beta\n",
    "        nw[trnf[:, best_feature] >= best_theta]*= beta \n",
    "    \n",
    "    alpha = np.log10(1/ beta)\n",
    "    SC.append([best_feature, best_theta, best_polarity, beta, alpha])\n",
    "    print(t)\n",
    "    print(best_feature)"
   ],
   "metadata": {
    "collapsed": false,
    "pycharm": {
     "name": "#%%\n",
     "is_executing": false
    }
   }
  },
  {
   "cell_type": "code",
   "execution_count": 11,
   "outputs": [
    {
     "traceback": [
      "\u001b[1;31m---------------------------------------------------------------------------\u001b[0m",
      "\u001b[1;31mNameError\u001b[0m                                 Traceback (most recent call last)",
      "\u001b[1;32m<ipython-input-11-08cc37476848>\u001b[0m in \u001b[0;36m<module>\u001b[1;34m\u001b[0m\n\u001b[0;32m      4\u001b[0m \u001b[0malpha_sum\u001b[0m \u001b[1;33m=\u001b[0m \u001b[1;36m0\u001b[0m\u001b[1;33m\u001b[0m\u001b[1;33m\u001b[0m\u001b[0m\n\u001b[0;32m      5\u001b[0m \u001b[1;32mfor\u001b[0m \u001b[0mi\u001b[0m \u001b[1;32min\u001b[0m \u001b[0mrange\u001b[0m\u001b[1;33m(\u001b[0m\u001b[1;36m10\u001b[0m\u001b[1;33m)\u001b[0m\u001b[1;33m:\u001b[0m\u001b[1;33m\u001b[0m\u001b[1;33m\u001b[0m\u001b[0m\n\u001b[1;32m----> 6\u001b[1;33m     \u001b[0mfeature\u001b[0m \u001b[1;33m=\u001b[0m \u001b[0mSC\u001b[0m\u001b[1;33m[\u001b[0m\u001b[0mi\u001b[0m\u001b[1;33m]\u001b[0m\u001b[1;33m[\u001b[0m\u001b[1;36m0\u001b[0m\u001b[1;33m]\u001b[0m\u001b[1;33m\u001b[0m\u001b[1;33m\u001b[0m\u001b[0m\n\u001b[0m\u001b[0;32m      7\u001b[0m     \u001b[0mtheta\u001b[0m \u001b[1;33m=\u001b[0m \u001b[0mSC\u001b[0m\u001b[1;33m[\u001b[0m\u001b[0mi\u001b[0m\u001b[1;33m]\u001b[0m\u001b[1;33m[\u001b[0m\u001b[1;36m1\u001b[0m\u001b[1;33m]\u001b[0m\u001b[1;33m\u001b[0m\u001b[1;33m\u001b[0m\u001b[0m\n\u001b[0;32m      8\u001b[0m     \u001b[0mpolarity\u001b[0m \u001b[1;33m=\u001b[0m \u001b[0mSC\u001b[0m\u001b[1;33m[\u001b[0m\u001b[0mi\u001b[0m\u001b[1;33m]\u001b[0m\u001b[1;33m[\u001b[0m\u001b[1;36m2\u001b[0m\u001b[1;33m]\u001b[0m\u001b[1;33m\u001b[0m\u001b[1;33m\u001b[0m\u001b[0m\n",
      "\u001b[1;31mNameError\u001b[0m: name 'SC' is not defined"
     ],
     "ename": "NameError",
     "evalue": "name 'SC' is not defined",
     "output_type": "error"
    }
   ],
   "source": [
    "# training acc\n",
    "trps = np.zeros((trpn, 1))\n",
    "trns = np.zeros((trnn, 1))\n",
    "alpha_sum = 0\n",
    "for i in range(10):\n",
    "    feature = SC[i][0]\n",
    "    theta = SC[i][1]\n",
    "    polarity = SC[i][2]\n",
    "    alpha = SC[i][3]\n",
    "    alpha_sum += alpha\n",
    "    if polarity ==1:\n",
    "        trps[trpf[:, feature] >= theta] += alpha\n",
    "        trns[trnf[:, feature] >= theta] += alpha\n",
    "    else:\n",
    "        trps[trpf[:, feature] < theta] += alpha\n",
    "        trns[trnf[:, feature] < theta] += alpha\n",
    "trps /= alpha_sum\n",
    "trns /= alpha_sum\n",
    "\n",
    "x = []\n",
    "y = []\n",
    "# draw ROC curve\n",
    "for i in range(100):\n",
    "    threshold = i/1000\n",
    "    x.append(np.sum(trns >= threshold)/ trnn)\n",
    "    y.append(np.sum(trps >= threshold)/ trpn)\n",
    "    \n",
    "import matplotlib.pyplot as plt\n",
    "plt.plot(x, y)\n",
    "    "
   ],
   "metadata": {
    "collapsed": false,
    "pycharm": {
     "name": "#%%\n",
     "is_executing": false
    }
   }
  },
  {
   "cell_type": "code",
   "execution_count": null,
   "outputs": [],
   "source": [
    "# testing accuracy\n",
    "trps = np.zeros((tepn, 1))\n",
    "trns = np.zeros((tenn, 1))\n",
    "alpha_sum = 0\n",
    "for i in range(10):\n",
    "    feature = SC[i][0]\n",
    "    theta = SC[i][1]\n",
    "    polarity = SC[i][2]\n",
    "    alpha = SC[i][3]\n",
    "    alpha_sum += alpha\n",
    "    if polarity ==1:\n",
    "        trps[trpf[:, feature] >= theta] += alpha\n",
    "        trns[trnf[:, feature] >= theta] += alpha\n",
    "    else:\n",
    "        trps[trpf[:, feature] < theta] += alpha\n",
    "        trns[trnf[:, feature] < theta] += alpha\n",
    "trps /= alpha_sum\n",
    "trns /= alpha_sum\n",
    "\n",
    "x = []\n",
    "y = []\n",
    "# draw ROC curve\n",
    "for i in range(100):\n",
    "    threshold = i/1000\n",
    "    x.append(np.sum(trns >= threshold)/ trnn)\n",
    "    y.append(np.sum(trps >= threshold)/ trpn)\n",
    "    \n",
    "import matplotlib.pyplot as plt\n",
    "plt.plot(x, y)\n",
    "\n"
   ],
   "metadata": {
    "collapsed": false,
    "pycharm": {
     "name": "#%%\n"
    }
   }
  }
 ],
 "metadata": {
  "kernelspec": {
   "display_name": "Python 3",
   "language": "python",
   "name": "python3"
  },
  "language_info": {
   "codemirror_mode": {
    "name": "ipython",
    "version": 2
   },
   "file_extension": ".py",
   "mimetype": "text/x-python",
   "name": "python",
   "nbconvert_exporter": "python",
   "pygments_lexer": "ipython2",
   "version": "2.7.6"
  },
  "pycharm": {
   "stem_cell": {
    "cell_type": "raw",
    "source": [],
    "metadata": {
     "collapsed": false
    }
   }
  }
 },
 "nbformat": 4,
 "nbformat_minor": 0
}